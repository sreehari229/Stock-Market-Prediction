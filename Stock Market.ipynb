{
 "cells": [
  {
   "cell_type": "code",
   "execution_count": 1,
   "metadata": {},
   "outputs": [
    {
     "name": "stderr",
     "output_type": "stream",
     "text": [
      "2022-04-22 18:04:59.643053: W tensorflow/stream_executor/platform/default/dso_loader.cc:64] Could not load dynamic library 'libcudart.so.11.0'; dlerror: libcudart.so.11.0: cannot open shared object file: No such file or directory\n",
      "2022-04-22 18:04:59.643072: I tensorflow/stream_executor/cuda/cudart_stub.cc:29] Ignore above cudart dlerror if you do not have a GPU set up on your machine.\n"
     ]
    }
   ],
   "source": [
    "import numpy as np\n",
    "import matplotlib.pyplot as plt\n",
    "import pandas as pd\n",
    "import pandas_datareader as web\n",
    "import datetime as dt\n",
    "from sklearn.preprocessing import MinMaxScaler\n",
    "from tensorflow.keras.models import Sequential\n",
    "from tensorflow.keras.layers import Dense, Dropout, LSTM"
   ]
  },
  {
   "cell_type": "code",
   "execution_count": 7,
   "metadata": {},
   "outputs": [
    {
     "data": {
      "text/html": [
       "<div>\n",
       "<style scoped>\n",
       "    .dataframe tbody tr th:only-of-type {\n",
       "        vertical-align: middle;\n",
       "    }\n",
       "\n",
       "    .dataframe tbody tr th {\n",
       "        vertical-align: top;\n",
       "    }\n",
       "\n",
       "    .dataframe thead th {\n",
       "        text-align: right;\n",
       "    }\n",
       "</style>\n",
       "<table border=\"1\" class=\"dataframe\">\n",
       "  <thead>\n",
       "    <tr style=\"text-align: right;\">\n",
       "      <th></th>\n",
       "      <th>High</th>\n",
       "      <th>Low</th>\n",
       "      <th>Open</th>\n",
       "      <th>Close</th>\n",
       "      <th>Volume</th>\n",
       "      <th>Adj Close</th>\n",
       "    </tr>\n",
       "    <tr>\n",
       "      <th>Date</th>\n",
       "      <th></th>\n",
       "      <th></th>\n",
       "      <th></th>\n",
       "      <th></th>\n",
       "      <th></th>\n",
       "      <th></th>\n",
       "    </tr>\n",
       "  </thead>\n",
       "  <tbody>\n",
       "    <tr>\n",
       "      <th>2022-04-14</th>\n",
       "      <td>214.990005</td>\n",
       "      <td>210.000000</td>\n",
       "      <td>214.889999</td>\n",
       "      <td>210.179993</td>\n",
       "      <td>18332700</td>\n",
       "      <td>210.179993</td>\n",
       "    </tr>\n",
       "    <tr>\n",
       "      <th>2022-04-18</th>\n",
       "      <td>213.380005</td>\n",
       "      <td>208.300003</td>\n",
       "      <td>210.000000</td>\n",
       "      <td>210.770004</td>\n",
       "      <td>16580800</td>\n",
       "      <td>210.770004</td>\n",
       "    </tr>\n",
       "    <tr>\n",
       "      <th>2022-04-19</th>\n",
       "      <td>218.429993</td>\n",
       "      <td>209.000000</td>\n",
       "      <td>210.520004</td>\n",
       "      <td>217.309998</td>\n",
       "      <td>20089900</td>\n",
       "      <td>217.309998</td>\n",
       "    </tr>\n",
       "    <tr>\n",
       "      <th>2022-04-20</th>\n",
       "      <td>214.160004</td>\n",
       "      <td>198.919998</td>\n",
       "      <td>213.610001</td>\n",
       "      <td>200.419998</td>\n",
       "      <td>43036500</td>\n",
       "      <td>200.419998</td>\n",
       "    </tr>\n",
       "    <tr>\n",
       "      <th>2022-04-21</th>\n",
       "      <td>202.970001</td>\n",
       "      <td>185.580002</td>\n",
       "      <td>201.600006</td>\n",
       "      <td>188.070007</td>\n",
       "      <td>49869400</td>\n",
       "      <td>188.070007</td>\n",
       "    </tr>\n",
       "  </tbody>\n",
       "</table>\n",
       "</div>"
      ],
      "text/plain": [
       "                  High         Low        Open       Close    Volume  \\\n",
       "Date                                                                   \n",
       "2022-04-14  214.990005  210.000000  214.889999  210.179993  18332700   \n",
       "2022-04-18  213.380005  208.300003  210.000000  210.770004  16580800   \n",
       "2022-04-19  218.429993  209.000000  210.520004  217.309998  20089900   \n",
       "2022-04-20  214.160004  198.919998  213.610001  200.419998  43036500   \n",
       "2022-04-21  202.970001  185.580002  201.600006  188.070007  49869400   \n",
       "\n",
       "             Adj Close  \n",
       "Date                    \n",
       "2022-04-14  210.179993  \n",
       "2022-04-18  210.770004  \n",
       "2022-04-19  217.309998  \n",
       "2022-04-20  200.419998  \n",
       "2022-04-21  188.070007  "
      ]
     },
     "execution_count": 7,
     "metadata": {},
     "output_type": "execute_result"
    }
   ],
   "source": [
    "company = 'FB'\n",
    "start = dt.datetime(2012,1,1)\n",
    "end = dt.date.today()\n",
    "data = web.DataReader(company, 'yahoo', start, end)\n",
    "data.tail()"
   ]
  },
  {
   "cell_type": "code",
   "execution_count": 18,
   "metadata": {},
   "outputs": [],
   "source": [
    "scaler = MinMaxScaler(feature_range=(0,1))\n",
    "scaled_data = scaler.fit_transform(data['Close'].values.reshape(-1,1))\n",
    "\n",
    "prediction_days = 60\n",
    "\n",
    "x_train = []\n",
    "y_train = []\n",
    "\n",
    "for x in range(prediction_days, len(scaled_data)):\n",
    "    x_train.append(scaled_data[x-prediction_days:x,0])\n",
    "    y_train.append(scaled_data[x,0])\n",
    "\n",
    "x_train, y_train = np.array(x_train), np.array(y_train)\n",
    "x_train = np.reshape(x_train, (x_train.shape[0],x_train.shape[1],1))"
   ]
  },
  {
   "cell_type": "code",
   "execution_count": 20,
   "metadata": {},
   "outputs": [
    {
     "name": "stdout",
     "output_type": "stream",
     "text": [
      "Epoch 1/25\n",
      "77/77 [==============================] - 7s 45ms/step - loss: 0.0116\n",
      "Epoch 2/25\n",
      "77/77 [==============================] - 3s 45ms/step - loss: 0.0028\n",
      "Epoch 3/25\n",
      "77/77 [==============================] - 3s 45ms/step - loss: 0.0024\n",
      "Epoch 4/25\n",
      "77/77 [==============================] - 3s 45ms/step - loss: 0.0024\n",
      "Epoch 5/25\n",
      "77/77 [==============================] - 3s 45ms/step - loss: 0.0024\n",
      "Epoch 6/25\n",
      "77/77 [==============================] - 3s 45ms/step - loss: 0.0020\n",
      "Epoch 7/25\n",
      "77/77 [==============================] - 4s 47ms/step - loss: 0.0019\n",
      "Epoch 8/25\n",
      "77/77 [==============================] - 4s 47ms/step - loss: 0.0021\n",
      "Epoch 9/25\n",
      "77/77 [==============================] - 4s 46ms/step - loss: 0.0020\n",
      "Epoch 10/25\n",
      "77/77 [==============================] - 4s 46ms/step - loss: 0.0017\n",
      "Epoch 11/25\n",
      "77/77 [==============================] - 4s 46ms/step - loss: 0.0019\n",
      "Epoch 12/25\n",
      "77/77 [==============================] - 4s 46ms/step - loss: 0.0016\n",
      "Epoch 13/25\n",
      "77/77 [==============================] - 4s 46ms/step - loss: 0.0016\n",
      "Epoch 14/25\n",
      "77/77 [==============================] - 4s 46ms/step - loss: 0.0015\n",
      "Epoch 15/25\n",
      "77/77 [==============================] - 4s 46ms/step - loss: 0.0015\n",
      "Epoch 16/25\n",
      "77/77 [==============================] - 4s 47ms/step - loss: 0.0017\n",
      "Epoch 17/25\n",
      "77/77 [==============================] - 4s 46ms/step - loss: 0.0015\n",
      "Epoch 18/25\n",
      "77/77 [==============================] - 4s 46ms/step - loss: 0.0013\n",
      "Epoch 19/25\n",
      "77/77 [==============================] - 4s 46ms/step - loss: 0.0014\n",
      "Epoch 20/25\n",
      "77/77 [==============================] - 4s 47ms/step - loss: 0.0013\n",
      "Epoch 21/25\n",
      "77/77 [==============================] - 4s 46ms/step - loss: 0.0013\n",
      "Epoch 22/25\n",
      "77/77 [==============================] - 4s 46ms/step - loss: 0.0013\n",
      "Epoch 23/25\n",
      "77/77 [==============================] - 4s 46ms/step - loss: 0.0013\n",
      "Epoch 24/25\n",
      "77/77 [==============================] - 4s 46ms/step - loss: 0.0011\n",
      "Epoch 25/25\n",
      "77/77 [==============================] - 4s 47ms/step - loss: 0.0012\n"
     ]
    },
    {
     "data": {
      "text/plain": [
       "<keras.callbacks.History at 0x7f51c06a56c0>"
      ]
     },
     "execution_count": 20,
     "metadata": {},
     "output_type": "execute_result"
    }
   ],
   "source": [
    "model = Sequential()\n",
    "model.add(LSTM(units=50, return_sequences=True, input_shape=(x_train.shape[1],1)))\n",
    "model.add(Dropout(0.2))\n",
    "model.add(LSTM(units=50, return_sequences=True))\n",
    "model.add(Dropout(0.2))\n",
    "model.add(LSTM(units=50))\n",
    "model.add(Dropout(0.2))\n",
    "model.add(Dense(units=1))\n",
    "\n",
    "model.compile(optimizer='adam', loss='mean_squared_error')\n",
    "model.fit(x_train, y_train, epochs=25, batch_size=32)"
   ]
  },
  {
   "cell_type": "code",
   "execution_count": 24,
   "metadata": {},
   "outputs": [],
   "source": [
    "test_start = dt.datetime(2022,1,1)\n",
    "test_end = dt.datetime.now()\n",
    "test_data = web.DataReader(company, 'yahoo', test_start, test_end)\n",
    "actual_prices = test_data['Close'].values\n",
    "\n",
    "total_dataset = pd.concat((data['Close'],test_data['Close']), axis=0)\n",
    "model_inputs = total_dataset[len(total_dataset) - len(test_data) - prediction_days:].values\n",
    "model_inputs = model_inputs.reshape(-1,1)\n",
    "model_inputs = scaler.transform(model_inputs)"
   ]
  },
  {
   "cell_type": "code",
   "execution_count": 30,
   "metadata": {},
   "outputs": [
    {
     "data": {
      "text/plain": [
       "Text(0, 0.5, 'Share Price')"
      ]
     },
     "execution_count": 30,
     "metadata": {},
     "output_type": "execute_result"
    },
    {
     "data": {
      "image/png": "[encoded data removed]",
      "text/plain": [
       "<Figure size 432x288 with 1 Axes>"
      ]
     },
     "metadata": {
      "needs_background": "light"
     },
     "output_type": "display_data"
    }
   ],
   "source": [
    "x_test = []\n",
    "for x in range(prediction_days, len(model_inputs)+1):\n",
    "    x_test.append(model_inputs[x-prediction_days:x,0])\n",
    "x_test = np.array(x_test)\n",
    "x_test = np.reshape(x_test, (x_test.shape[0], x_test.shape[1],1))\n",
    "\n",
    "predicted_prices = model.predict(x_test)\n",
    "predicted_prices = scaler.inverse_transform(predicted_prices)\n",
    "\n",
    "plt.plot(actual_prices, color=\"black\")\n",
    "plt.plot(predicted_prices, color=\"green\")\n",
    "plt.xlabel('Time')\n",
    "plt.ylabel('Share Price')"
   ]
  },
  {
   "cell_type": "code",
   "execution_count": 37,
   "metadata": {},
   "outputs": [
    {
     "data": {
      "text/plain": [
       "array([[219.03958]], dtype=float32)"
      ]
     },
     "execution_count": 37,
     "metadata": {},
     "output_type": "execute_result"
    }
   ],
   "source": [
    "real_data = [model_inputs[len(model_inputs)+1-prediction_days:len(model_inputs+1),0]]\n",
    "real_data = np.array(real_data)\n",
    "real_data = np.reshape(real_data, (real_data.shape[0], real_data.shape[1],1))\n",
    "prediction = model.predict(real_data)\n",
    "prediction = scaler.inverse_transform(prediction)\n",
    "prediction"
   ]
  },
  {
   "cell_type": "code",
   "execution_count": null,
   "metadata": {},
   "outputs": [],
   "source": []
  }
 ],
 "metadata": {
  "kernelspec": {
   "display_name": "VirtualKernelBro",
   "language": "python",
   "name": "venv"
  },
  "language_info": {
   "codemirror_mode": {
    "name": "ipython",
    "version": 3
   },
   "file_extension": ".py",
   "mimetype": "text/x-python",
   "name": "python",
   "nbconvert_exporter": "python",
   "pygments_lexer": "ipython3",
   "version": "3.10.4"
  }
 },
 "nbformat": 4,
 "nbformat_minor": 4
}
